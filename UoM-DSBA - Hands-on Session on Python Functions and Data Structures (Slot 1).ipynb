{
 "cells": [
  {
   "cell_type": "code",
   "execution_count": 3,
   "id": "6543c96c",
   "metadata": {},
   "outputs": [],
   "source": [
    "sales = 150.5"
   ]
  },
  {
   "cell_type": "code",
   "execution_count": 4,
   "id": "12ccadf5",
   "metadata": {},
   "outputs": [
    {
     "data": {
      "text/plain": [
       "float"
      ]
     },
     "execution_count": 4,
     "metadata": {},
     "output_type": "execute_result"
    }
   ],
   "source": [
    "type(sales)"
   ]
  },
  {
   "cell_type": "code",
   "execution_count": 5,
   "id": "946076eb",
   "metadata": {},
   "outputs": [],
   "source": [
    "quantity = 10"
   ]
  },
  {
   "cell_type": "code",
   "execution_count": 6,
   "id": "d1ebd672",
   "metadata": {},
   "outputs": [
    {
     "data": {
      "text/plain": [
       "int"
      ]
     },
     "execution_count": 6,
     "metadata": {},
     "output_type": "execute_result"
    }
   ],
   "source": [
    "type(quantity)"
   ]
  },
  {
   "cell_type": "code",
   "execution_count": 7,
   "id": "c56ec83b",
   "metadata": {},
   "outputs": [],
   "source": [
    "custname = 'Rahul'"
   ]
  },
  {
   "cell_type": "code",
   "execution_count": 8,
   "id": "2b45c6e5",
   "metadata": {},
   "outputs": [
    {
     "data": {
      "text/plain": [
       "str"
      ]
     },
     "execution_count": 8,
     "metadata": {},
     "output_type": "execute_result"
    }
   ],
   "source": [
    "type(custname)"
   ]
  },
  {
   "cell_type": "code",
   "execution_count": 9,
   "id": "2726cae1",
   "metadata": {},
   "outputs": [],
   "source": [
    "output = sales>100"
   ]
  },
  {
   "cell_type": "code",
   "execution_count": 11,
   "id": "056166e4",
   "metadata": {},
   "outputs": [
    {
     "data": {
      "text/plain": [
       "bool"
      ]
     },
     "execution_count": 11,
     "metadata": {},
     "output_type": "execute_result"
    }
   ],
   "source": [
    "type(output)"
   ]
  },
  {
   "cell_type": "markdown",
   "id": "1730b5e5",
   "metadata": {},
   "source": [
    "**Dynamically Typed Programming Language**"
   ]
  },
  {
   "cell_type": "code",
   "execution_count": 12,
   "id": "4f243212",
   "metadata": {},
   "outputs": [],
   "source": [
    "out_put = 'Rahul'"
   ]
  },
  {
   "cell_type": "code",
   "execution_count": 13,
   "id": "58c68d89",
   "metadata": {},
   "outputs": [
    {
     "data": {
      "text/plain": [
       "'Rahul'"
      ]
     },
     "execution_count": 13,
     "metadata": {},
     "output_type": "execute_result"
    }
   ],
   "source": [
    "out_put"
   ]
  },
  {
   "cell_type": "code",
   "execution_count": 14,
   "id": "abd0b421",
   "metadata": {},
   "outputs": [],
   "source": [
    "_output = 'Rahul'"
   ]
  },
  {
   "cell_type": "code",
   "execution_count": 15,
   "id": "315123f9",
   "metadata": {},
   "outputs": [
    {
     "data": {
      "text/plain": [
       "'Rahul'"
      ]
     },
     "execution_count": 15,
     "metadata": {},
     "output_type": "execute_result"
    }
   ],
   "source": [
    "_output"
   ]
  },
  {
   "cell_type": "code",
   "execution_count": null,
   "id": "cbd0e003",
   "metadata": {},
   "outputs": [],
   "source": [
    "_ underscores - Can be at the start, It can be in the middle on anywhere, It can be at the last also \n",
    "Alphabets - Yes, it can be small it can be capital \n",
    "Numbers - It can be in the identifiers but numbers cannot be present at the start"
   ]
  },
  {
   "cell_type": "code",
   "execution_count": 16,
   "id": "ff0b757d",
   "metadata": {},
   "outputs": [],
   "source": [
    "output = 'Rahul'\n",
    "OUTPUT = 'Rohit'"
   ]
  },
  {
   "cell_type": "code",
   "execution_count": 17,
   "id": "1170cbad",
   "metadata": {},
   "outputs": [
    {
     "data": {
      "text/plain": [
       "'Rahul'"
      ]
     },
     "execution_count": 17,
     "metadata": {},
     "output_type": "execute_result"
    }
   ],
   "source": [
    "output"
   ]
  },
  {
   "cell_type": "code",
   "execution_count": 18,
   "id": "f37fdb26",
   "metadata": {},
   "outputs": [
    {
     "data": {
      "text/plain": [
       "'Rohit'"
      ]
     },
     "execution_count": 18,
     "metadata": {},
     "output_type": "execute_result"
    }
   ],
   "source": [
    "OUTPUT"
   ]
  },
  {
   "cell_type": "code",
   "execution_count": 20,
   "id": "6f3ec4f1",
   "metadata": {},
   "outputs": [],
   "source": [
    "out123put = 'Rahul'"
   ]
  },
  {
   "cell_type": "code",
   "execution_count": 21,
   "id": "6a468d64",
   "metadata": {},
   "outputs": [
    {
     "data": {
      "text/plain": [
       "'Rahul'"
      ]
     },
     "execution_count": 21,
     "metadata": {},
     "output_type": "execute_result"
    }
   ],
   "source": [
    "out123put"
   ]
  },
  {
   "cell_type": "code",
   "execution_count": 22,
   "id": "116b6977",
   "metadata": {},
   "outputs": [],
   "source": [
    "output123 = ' Rahul'"
   ]
  },
  {
   "cell_type": "code",
   "execution_count": 23,
   "id": "02d77fba",
   "metadata": {},
   "outputs": [
    {
     "data": {
      "text/plain": [
       "' Rahul'"
      ]
     },
     "execution_count": 23,
     "metadata": {},
     "output_type": "execute_result"
    }
   ],
   "source": [
    "output123\n"
   ]
  },
  {
   "cell_type": "markdown",
   "id": "c89f8a42",
   "metadata": {},
   "source": [
    "**Python collection datatypes / Data Structures**\n"
   ]
  },
  {
   "cell_type": "code",
   "execution_count": null,
   "id": "d17ceb6a",
   "metadata": {},
   "outputs": [],
   "source": [
    "Lists\n",
    "Tuples\n",
    "Sets\n",
    "    Frozensets\n",
    "Dictionaries "
   ]
  },
  {
   "cell_type": "code",
   "execution_count": 24,
   "id": "48dc941f",
   "metadata": {},
   "outputs": [],
   "source": [
    "ages = [21,22,22,24,25,27,28]"
   ]
  },
  {
   "cell_type": "code",
   "execution_count": 25,
   "id": "57732433",
   "metadata": {},
   "outputs": [
    {
     "data": {
      "text/plain": [
       "list"
      ]
     },
     "execution_count": 25,
     "metadata": {},
     "output_type": "execute_result"
    }
   ],
   "source": [
    "type(ages)"
   ]
  },
  {
   "cell_type": "code",
   "execution_count": 26,
   "id": "6343c993",
   "metadata": {},
   "outputs": [
    {
     "data": {
      "text/plain": [
       "24"
      ]
     },
     "execution_count": 26,
     "metadata": {},
     "output_type": "execute_result"
    }
   ],
   "source": [
    "ages[3]"
   ]
  },
  {
   "cell_type": "code",
   "execution_count": 28,
   "id": "55c5384c",
   "metadata": {},
   "outputs": [
    {
     "data": {
      "text/plain": [
       "[22, 24, 25, 27]"
      ]
     },
     "execution_count": 28,
     "metadata": {},
     "output_type": "execute_result"
    }
   ],
   "source": [
    "ages[2:6]"
   ]
  },
  {
   "cell_type": "code",
   "execution_count": 29,
   "id": "9e700935",
   "metadata": {},
   "outputs": [
    {
     "data": {
      "text/plain": [
       "[22, 24, 25, 27, 28]"
      ]
     },
     "execution_count": 29,
     "metadata": {},
     "output_type": "execute_result"
    }
   ],
   "source": [
    "ages[2:7]"
   ]
  },
  {
   "cell_type": "code",
   "execution_count": 30,
   "id": "8d52da57",
   "metadata": {},
   "outputs": [
    {
     "data": {
      "text/plain": [
       "[22, 24, 25, 27, 28]"
      ]
     },
     "execution_count": 30,
     "metadata": {},
     "output_type": "execute_result"
    }
   ],
   "source": [
    "ages[2:]"
   ]
  },
  {
   "cell_type": "code",
   "execution_count": 31,
   "id": "e6f009dc",
   "metadata": {},
   "outputs": [
    {
     "data": {
      "text/plain": [
       "24"
      ]
     },
     "execution_count": 31,
     "metadata": {},
     "output_type": "execute_result"
    }
   ],
   "source": [
    "ages[3]"
   ]
  },
  {
   "cell_type": "code",
   "execution_count": 32,
   "id": "af943e46",
   "metadata": {},
   "outputs": [
    {
     "data": {
      "text/plain": [
       "24"
      ]
     },
     "execution_count": 32,
     "metadata": {},
     "output_type": "execute_result"
    }
   ],
   "source": [
    "ages[-4]"
   ]
  },
  {
   "cell_type": "code",
   "execution_count": 34,
   "id": "b7cfbefe",
   "metadata": {},
   "outputs": [
    {
     "data": {
      "text/plain": [
       "7"
      ]
     },
     "execution_count": 34,
     "metadata": {},
     "output_type": "execute_result"
    }
   ],
   "source": [
    "len(ages)"
   ]
  },
  {
   "cell_type": "code",
   "execution_count": 36,
   "id": "edf290ef",
   "metadata": {},
   "outputs": [
    {
     "data": {
      "text/plain": [
       "1504942628992"
      ]
     },
     "execution_count": 36,
     "metadata": {},
     "output_type": "execute_result"
    }
   ],
   "source": [
    "id(ages)"
   ]
  },
  {
   "cell_type": "code",
   "execution_count": 39,
   "id": "1006f799",
   "metadata": {},
   "outputs": [],
   "source": [
    "ages[3]=22"
   ]
  },
  {
   "cell_type": "code",
   "execution_count": 41,
   "id": "52e2f00f",
   "metadata": {},
   "outputs": [
    {
     "data": {
      "text/plain": [
       "1504942628992"
      ]
     },
     "execution_count": 41,
     "metadata": {},
     "output_type": "execute_result"
    }
   ],
   "source": [
    "id(ages)"
   ]
  },
  {
   "cell_type": "code",
   "execution_count": 42,
   "id": "cbb46350",
   "metadata": {},
   "outputs": [],
   "source": [
    "salary = (21,43,56,54,32)"
   ]
  },
  {
   "cell_type": "code",
   "execution_count": 43,
   "id": "c2651c15",
   "metadata": {},
   "outputs": [
    {
     "data": {
      "text/plain": [
       "54"
      ]
     },
     "execution_count": 43,
     "metadata": {},
     "output_type": "execute_result"
    }
   ],
   "source": [
    "salary[3]"
   ]
  },
  {
   "cell_type": "code",
   "execution_count": 45,
   "id": "e4ff29c9",
   "metadata": {},
   "outputs": [
    {
     "ename": "TypeError",
     "evalue": "'tuple' object does not support item assignment",
     "output_type": "error",
     "traceback": [
      "\u001b[1;31m---------------------------------------------------------------------------\u001b[0m",
      "\u001b[1;31mTypeError\u001b[0m                                 Traceback (most recent call last)",
      "Cell \u001b[1;32mIn[45], line 1\u001b[0m\n\u001b[1;32m----> 1\u001b[0m salary[\u001b[38;5;241m3\u001b[39m]\u001b[38;5;241m=\u001b[39m\u001b[38;5;241m22\u001b[39m\n",
      "\u001b[1;31mTypeError\u001b[0m: 'tuple' object does not support item assignment"
     ]
    }
   ],
   "source": [
    "salary[3]=22"
   ]
  },
  {
   "cell_type": "code",
   "execution_count": 46,
   "id": "fd20907c",
   "metadata": {},
   "outputs": [],
   "source": [
    "del salary"
   ]
  },
  {
   "cell_type": "code",
   "execution_count": 47,
   "id": "7025b568",
   "metadata": {},
   "outputs": [],
   "source": [
    "del out123put"
   ]
  },
  {
   "cell_type": "code",
   "execution_count": 48,
   "id": "684338d4",
   "metadata": {},
   "outputs": [],
   "source": [
    "del out_put"
   ]
  },
  {
   "cell_type": "code",
   "execution_count": 49,
   "id": "ec541ed8",
   "metadata": {},
   "outputs": [],
   "source": [
    "del output"
   ]
  },
  {
   "cell_type": "code",
   "execution_count": 50,
   "id": "aa3308ed",
   "metadata": {},
   "outputs": [],
   "source": [
    "del output123"
   ]
  },
  {
   "cell_type": "code",
   "execution_count": null,
   "id": "6b6beca2",
   "metadata": {},
   "outputs": [],
   "source": [
    "sets"
   ]
  },
  {
   "cell_type": "code",
   "execution_count": 51,
   "id": "d77c2104",
   "metadata": {},
   "outputs": [],
   "source": [
    "set1 = {1,2,2,3,4,4,4,4,4,5}"
   ]
  },
  {
   "cell_type": "code",
   "execution_count": 52,
   "id": "de04edd0",
   "metadata": {},
   "outputs": [
    {
     "data": {
      "text/plain": [
       "{1, 2, 3, 4, 5}"
      ]
     },
     "execution_count": 52,
     "metadata": {},
     "output_type": "execute_result"
    }
   ],
   "source": [
    "set1"
   ]
  },
  {
   "cell_type": "code",
   "execution_count": null,
   "id": "68718109",
   "metadata": {},
   "outputs": [],
   "source": [
    "sets - Mutable "
   ]
  },
  {
   "cell_type": "code",
   "execution_count": 55,
   "id": "6dc4f80e",
   "metadata": {},
   "outputs": [],
   "source": [
    "fsset = frozenset(set1)"
   ]
  },
  {
   "cell_type": "code",
   "execution_count": null,
   "id": "ad006a36",
   "metadata": {},
   "outputs": [],
   "source": [
    "Immutable in nature"
   ]
  },
  {
   "cell_type": "code",
   "execution_count": null,
   "id": "c12005e9",
   "metadata": {},
   "outputs": [],
   "source": [
    "key value pairs "
   ]
  },
  {
   "cell_type": "code",
   "execution_count": 56,
   "id": "49134bc9",
   "metadata": {},
   "outputs": [],
   "source": [
    "student_details = {'sid':[1,2,3,4,5],'sname':['A','B','C','D','E'], 'sregion':['N','S','S','E','W']}"
   ]
  },
  {
   "cell_type": "code",
   "execution_count": 58,
   "id": "c6ba82a6",
   "metadata": {},
   "outputs": [
    {
     "data": {
      "text/plain": [
       "dict"
      ]
     },
     "execution_count": 58,
     "metadata": {},
     "output_type": "execute_result"
    }
   ],
   "source": [
    "type(student_details)"
   ]
  },
  {
   "cell_type": "code",
   "execution_count": 59,
   "id": "44751b12",
   "metadata": {},
   "outputs": [
    {
     "data": {
      "text/plain": [
       "{'sid': [1, 2, 3, 4, 5],\n",
       " 'sname': ['A', 'B', 'C', 'D', 'E'],\n",
       " 'sregion': ['N', 'S', 'S', 'E', 'W']}"
      ]
     },
     "execution_count": 59,
     "metadata": {},
     "output_type": "execute_result"
    }
   ],
   "source": [
    "student_details"
   ]
  },
  {
   "cell_type": "code",
   "execution_count": 60,
   "id": "79c77972",
   "metadata": {},
   "outputs": [
    {
     "data": {
      "text/html": [
       "<div>\n",
       "<style scoped>\n",
       "    .dataframe tbody tr th:only-of-type {\n",
       "        vertical-align: middle;\n",
       "    }\n",
       "\n",
       "    .dataframe tbody tr th {\n",
       "        vertical-align: top;\n",
       "    }\n",
       "\n",
       "    .dataframe thead th {\n",
       "        text-align: right;\n",
       "    }\n",
       "</style>\n",
       "<table border=\"1\" class=\"dataframe\">\n",
       "  <thead>\n",
       "    <tr style=\"text-align: right;\">\n",
       "      <th></th>\n",
       "      <th>sid</th>\n",
       "      <th>sname</th>\n",
       "      <th>sregion</th>\n",
       "    </tr>\n",
       "  </thead>\n",
       "  <tbody>\n",
       "    <tr>\n",
       "      <th>0</th>\n",
       "      <td>1</td>\n",
       "      <td>A</td>\n",
       "      <td>N</td>\n",
       "    </tr>\n",
       "    <tr>\n",
       "      <th>1</th>\n",
       "      <td>2</td>\n",
       "      <td>B</td>\n",
       "      <td>S</td>\n",
       "    </tr>\n",
       "    <tr>\n",
       "      <th>2</th>\n",
       "      <td>3</td>\n",
       "      <td>C</td>\n",
       "      <td>S</td>\n",
       "    </tr>\n",
       "    <tr>\n",
       "      <th>3</th>\n",
       "      <td>4</td>\n",
       "      <td>D</td>\n",
       "      <td>E</td>\n",
       "    </tr>\n",
       "    <tr>\n",
       "      <th>4</th>\n",
       "      <td>5</td>\n",
       "      <td>E</td>\n",
       "      <td>W</td>\n",
       "    </tr>\n",
       "  </tbody>\n",
       "</table>\n",
       "</div>"
      ],
      "text/plain": [
       "   sid sname sregion\n",
       "0    1     A       N\n",
       "1    2     B       S\n",
       "2    3     C       S\n",
       "3    4     D       E\n",
       "4    5     E       W"
      ]
     },
     "execution_count": 60,
     "metadata": {},
     "output_type": "execute_result"
    }
   ],
   "source": [
    "import pandas as pd\n",
    "pd.DataFrame(student_details)"
   ]
  },
  {
   "cell_type": "code",
   "execution_count": null,
   "id": "740bbd2c",
   "metadata": {},
   "outputs": [],
   "source": [
    "Conditional Logic (Flow Control) "
   ]
  },
  {
   "cell_type": "code",
   "execution_count": null,
   "id": "148c49fc",
   "metadata": {},
   "outputs": [],
   "source": [
    "if else \n",
    "for \n",
    "while"
   ]
  },
  {
   "cell_type": "code",
   "execution_count": 66,
   "id": "0067436e",
   "metadata": {},
   "outputs": [
    {
     "name": "stdout",
     "output_type": "stream",
     "text": [
      "Enter the marks you got: 25\n",
      "You failed the exam\n"
     ]
    }
   ],
   "source": [
    "marks = int(input('Enter the marks you got: '))\n",
    "if marks<35:\n",
    "    print('You failed the exam')\n",
    "else:\n",
    "    print('You passed the exam')"
   ]
  },
  {
   "cell_type": "code",
   "execution_count": 64,
   "id": "8997e7aa",
   "metadata": {},
   "outputs": [
    {
     "data": {
      "text/plain": [
       "str"
      ]
     },
     "execution_count": 64,
     "metadata": {},
     "output_type": "execute_result"
    }
   ],
   "source": [
    "type(marks)"
   ]
  },
  {
   "cell_type": "code",
   "execution_count": 69,
   "id": "01172e94",
   "metadata": {},
   "outputs": [
    {
     "name": "stdout",
     "output_type": "stream",
     "text": [
      "Enter the marks: 65\n",
      "You got an excellent marks\n"
     ]
    }
   ],
   "source": [
    "marks = int(input('Enter the marks: '))\n",
    "if marks<35:\n",
    "    print('you failed the exam')\n",
    "elif marks>=35 and marks<=60:\n",
    "    print('You got an avg marks')\n",
    "else:\n",
    "    print('You got an excellent marks')"
   ]
  },
  {
   "cell_type": "code",
   "execution_count": null,
   "id": "ffff2012",
   "metadata": {},
   "outputs": [],
   "source": [
    "for loops "
   ]
  },
  {
   "cell_type": "code",
   "execution_count": 72,
   "id": "c41539a8",
   "metadata": {},
   "outputs": [
    {
     "name": "stdout",
     "output_type": "stream",
     "text": [
      "157.5\n",
      "131.25\n",
      "141.75\n",
      "152.25\n",
      "141.75\n"
     ]
    }
   ],
   "source": [
    "salary = [150,125,135,145,135]\n",
    "\n",
    "for i in salary:\n",
    "    print(i*1.05)"
   ]
  },
  {
   "cell_type": "code",
   "execution_count": 75,
   "id": "4f6b86b1",
   "metadata": {},
   "outputs": [
    {
     "name": "stdout",
     "output_type": "stream",
     "text": [
      "r upgrad\n",
      "a upgrad\n",
      "h upgrad\n",
      "u upgrad\n",
      "l upgrad\n"
     ]
    }
   ],
   "source": [
    "name = 'rahul'\n",
    "for i in name:\n",
    "    print(i+' '+'upgrad')"
   ]
  },
  {
   "cell_type": "code",
   "execution_count": 94,
   "id": "9a347934",
   "metadata": {},
   "outputs": [],
   "source": [
    "sales = [102,343,234,234,222,455,443,222,444,222,333,222,444,625,333,232]\n",
    "profit = [43,23,22,11,33,45,33]"
   ]
  },
  {
   "cell_type": "code",
   "execution_count": 96,
   "id": "516b8425",
   "metadata": {},
   "outputs": [
    {
     "name": "stdout",
     "output_type": "stream",
     "text": [
      "0.4215686274509804\n",
      "0.06705539358600583\n",
      "0.09401709401709402\n",
      "0.04700854700854701\n",
      "0.14864864864864866\n",
      "0.0989010989010989\n",
      "0.0744920993227991\n"
     ]
    }
   ],
   "source": [
    "for i in range(0,len(profit)):\n",
    "    print(profit[i]/sales[i])"
   ]
  },
  {
   "cell_type": "code",
   "execution_count": 79,
   "id": "f96cc5fc",
   "metadata": {},
   "outputs": [
    {
     "data": {
      "text/plain": [
       "43"
      ]
     },
     "execution_count": 79,
     "metadata": {},
     "output_type": "execute_result"
    }
   ],
   "source": [
    "profit[0]"
   ]
  },
  {
   "cell_type": "code",
   "execution_count": 84,
   "id": "45c87907",
   "metadata": {},
   "outputs": [
    {
     "data": {
      "text/plain": [
       "[0, 1, 2, 3, 4]"
      ]
     },
     "execution_count": 84,
     "metadata": {},
     "output_type": "execute_result"
    }
   ],
   "source": [
    "list(range(0,5))"
   ]
  },
  {
   "cell_type": "code",
   "execution_count": 91,
   "id": "4a572cd1",
   "metadata": {},
   "outputs": [
    {
     "data": {
      "text/plain": [
       "15"
      ]
     },
     "execution_count": 91,
     "metadata": {},
     "output_type": "execute_result"
    }
   ],
   "source": [
    "len(profit)"
   ]
  },
  {
   "cell_type": "code",
   "execution_count": null,
   "id": "d125b5b3",
   "metadata": {},
   "outputs": [],
   "source": [
    "while loops"
   ]
  },
  {
   "cell_type": "code",
   "execution_count": null,
   "id": "45e22925",
   "metadata": {},
   "outputs": [],
   "source": [
    "while 1==1:\n",
    "    print('Hi')"
   ]
  },
  {
   "cell_type": "code",
   "execution_count": 97,
   "id": "17a75ecd",
   "metadata": {},
   "outputs": [],
   "source": [
    "while 1==0:\n",
    "    print('Hi')"
   ]
  },
  {
   "cell_type": "code",
   "execution_count": 98,
   "id": "76740433",
   "metadata": {},
   "outputs": [
    {
     "name": "stdout",
     "output_type": "stream",
     "text": [
      "The total coupouns left are:  5\n",
      "The total coupouns left are:  4\n",
      "The total coupouns left are:  3\n",
      "The total coupouns left are:  2\n",
      "The total coupouns left are:  1\n",
      "The total coupouns left are:  0\n",
      "There are no coupons left\n"
     ]
    }
   ],
   "source": [
    "coupouns = 5\n",
    "utilized = 0\n",
    "\n",
    "while utilized<=coupouns:\n",
    "    print('The total coupouns left are: ', coupouns-utilized)\n",
    "    utilized=utilized+1\n",
    "print('There are no coupons left')"
   ]
  },
  {
   "cell_type": "code",
   "execution_count": 107,
   "id": "029ca562",
   "metadata": {},
   "outputs": [
    {
     "name": "stdout",
     "output_type": "stream",
     "text": [
      "Enter the number: -5\n",
      "There is no factorial of a negative number\n"
     ]
    }
   ],
   "source": [
    "number = int(input('Enter the number: ')) \n",
    "if number<0:\n",
    "    print('There is no factorial of a negative number')\n",
    "else:\n",
    "    result = 1 \n",
    "    while number>=1:\n",
    "        result = result*number\n",
    "        number=number-1\n",
    "    print(result)"
   ]
  },
  {
   "cell_type": "code",
   "execution_count": null,
   "id": "363b23fa",
   "metadata": {},
   "outputs": [],
   "source": []
  },
  {
   "cell_type": "code",
   "execution_count": null,
   "id": "7711d2af",
   "metadata": {},
   "outputs": [],
   "source": []
  },
  {
   "cell_type": "code",
   "execution_count": null,
   "id": "97258689",
   "metadata": {},
   "outputs": [],
   "source": []
  },
  {
   "cell_type": "code",
   "execution_count": null,
   "id": "c93afcf6",
   "metadata": {},
   "outputs": [],
   "source": []
  },
  {
   "cell_type": "code",
   "execution_count": null,
   "id": "6ee945d7",
   "metadata": {},
   "outputs": [],
   "source": []
  },
  {
   "cell_type": "code",
   "execution_count": null,
   "id": "5fce2ede",
   "metadata": {},
   "outputs": [],
   "source": []
  }
 ],
 "metadata": {
  "kernelspec": {
   "display_name": "Python 3 (ipykernel)",
   "language": "python",
   "name": "python3"
  },
  "language_info": {
   "codemirror_mode": {
    "name": "ipython",
    "version": 3
   },
   "file_extension": ".py",
   "mimetype": "text/x-python",
   "name": "python",
   "nbconvert_exporter": "python",
   "pygments_lexer": "ipython3",
   "version": "3.11.5"
  }
 },
 "nbformat": 4,
 "nbformat_minor": 5
}
